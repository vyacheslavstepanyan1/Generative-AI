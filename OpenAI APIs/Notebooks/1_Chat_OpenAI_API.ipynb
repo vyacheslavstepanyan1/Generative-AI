{
  "cells": [
    {
      "cell_type": "code",
      "execution_count": null,
      "metadata": {
        "id": "OIwL7oxvW4Du"
      },
      "outputs": [],
      "source": [
        "%%capture\n",
        "!pip install openai"
      ]
    },
    {
      "cell_type": "code",
      "execution_count": null,
      "metadata": {
        "id": "xK5gy0VqfZS9"
      },
      "outputs": [],
      "source": [
        "with open('apikey.txt','r') as f:\n",
        "  OPENAI_API_KEY = f.read()"
      ]
    },
    {
      "cell_type": "code",
      "execution_count": null,
      "metadata": {
        "colab": {
          "base_uri": "https://localhost:8080/"
        },
        "id": "kO0kUAdaW_Wv",
        "outputId": "ac52938f-1c37-43fe-ca8a-4119507590de"
      },
      "outputs": [
        {
          "name": "stdout",
          "output_type": "stream",
          "text": [
            "{\n",
            "  \"1. Advanced Machine Learning Concepts\": \"Deepen your understanding of machine learning principles, including optimization techniques, regularization methods, and ensemble learning.\",\n",
            "  \"2. Neural Network Architecture\": \"Explore different network architectures like CNNs, RNNs, Transformers, and how to design custom architectures for specific tasks.\",\n",
            "  \"3. Sequence Modeling\": \"Learn about different approaches to sequence modeling such as LSTM, GRU, and attention mechanisms, including the Transformer architecture.\",\n",
            "  \"4. Language Modeling and Generation\": \"Study language models, including n-gram, Markov models, and modern approaches such as GPT and BERT.\",\n",
            "  \"5. Transfer Learning and Fine-tuning\": \"Understand the techniques for applying pre-trained models to new tasks through fine-tuning and feature extraction.\",\n",
            "  \"6. Scalability and Efficiency\": \"Learn how to scale up language models to handle large datasets and compute resources efficiently, including distributed training and quantization.\",\n",
            "  \"7. Evaluation Metrics\": \"Familiarize yourself with different metrics used in evaluating LLMs, such as perplexity, BLEU, ROUGE, and F1 score, and understand their limitations.\",\n",
            "  \"8. Bias and Fairness\": \"Study the sources of bias in LLMs, methods for bias detection, and strategies for creating more fair and equitable models.\",\n",
            "  \"9. Interpretability and Explainability\": \"Learn about techniques to interpret LLM predictions and what methods exist to explain model decisions.\",\n",
            "  \"10. Ethics and Policy\": \"Understand the ethical implications of LLMs, including privacy concerns, misinformation, and regulatory considerations.\",\n",
            "  \"11. Research Trends\": \"Stay updated with the latest research and trends in LLMs by following key conferences, journals, and preprint servers.\",\n",
            "  \"12. Practical Implementation\": \"Get hands-on experience by implementing LLMs using frameworks like TensorFlow, PyTorch, and Hugging Face Transformers.\",\n",
            "  \"13. Domain-Specific Applications\": \"Explore how LLMs can be applied to specific domains such as healthcare, finance, or legal, tailoring solutions to industry-specific challenges.\",\n",
            "  \"14. Multimodal Models\": \"Learn about models that combine language with other data types, such as images or tabular data, for tasks like visual question answering.\",\n",
            "  \"15. Tooling and Infrastructure\": \"Understand the tooling, libraries, and infrastructure needed to support LLM development, like model serving, monitoring, and continuous integration.\"\n",
            "}\n"
          ]
        }
      ],
      "source": [
        "from openai import OpenAI\n",
        "import json\n",
        "\n",
        "client = OpenAI(api_key=OPENAI_API_KEY)\n",
        "\n",
        "response = client.chat.completions.create(\n",
        "  model=\"gpt-4-1106-preview\",\n",
        "  response_format={ \"type\": \"json_object\" },\n",
        "  messages=[\n",
        "    {\"role\": \"system\", \"content\": \"You are LLM assistant with json that provides short answers.\"},\n",
        "    {\"role\": \"user\", \"content\": \"I want to dive deeper in LLMs. I am Senior Data Scientist. What should I learn?\"}\n",
        "  ]\n",
        ")\n",
        "print(response.choices[0].message.content)"
      ]
    },
    {
      "cell_type": "code",
      "execution_count": null,
      "metadata": {
        "id": "rNNfl0iYfLcc"
      },
      "outputs": [],
      "source": []
    }
  ],
  "metadata": {
    "colab": {
      "provenance": []
    },
    "kernelspec": {
      "display_name": "Python 3",
      "name": "python3"
    },
    "language_info": {
      "name": "python",
      "version": "3.12.1"
    }
  },
  "nbformat": 4,
  "nbformat_minor": 0
}
