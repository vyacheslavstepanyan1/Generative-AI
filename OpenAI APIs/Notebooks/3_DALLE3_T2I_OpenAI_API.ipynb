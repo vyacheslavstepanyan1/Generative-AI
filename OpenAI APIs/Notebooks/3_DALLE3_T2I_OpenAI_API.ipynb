{
  "cells": [
    {
      "cell_type": "code",
      "execution_count": null,
      "metadata": {
        "id": "OIwL7oxvW4Du"
      },
      "outputs": [],
      "source": [
        "%%capture\n",
        "!pip install openai"
      ]
    },
    {
      "cell_type": "code",
      "execution_count": 2,
      "metadata": {
        "id": "xK5gy0VqfZS9"
      },
      "outputs": [],
      "source": [
        "with open('api_key.txt','r') as f:\n",
        "  OPENAI_API_KEY = f.read()"
      ]
    },
    {
      "cell_type": "code",
      "execution_count": 3,
      "metadata": {
        "id": "kO0kUAdaW_Wv"
      },
      "outputs": [
        {
          "data": {
            "text/plain": [
              "'https://oaidalleapiprodscus.blob.core.windows.net/private/org-67skpEtYnoKL2oHgmJnf6Vx5/user-2wJp0MeSMgdY9Qg2B9iwiS96/img-71uXOUsWRj1fjSFAhhs6QNix.png?st=2024-03-17T12%3A24%3A50Z&se=2024-03-17T14%3A24%3A50Z&sp=r&sv=2021-08-06&sr=b&rscd=inline&rsct=image/png&skoid=6aaadede-4fb3-4698-a8f6-684d7786b067&sktid=a48cca56-e6da-484e-a814-9c849652bcb3&skt=2024-03-17T10%3A12%3A32Z&ske=2024-03-18T10%3A12%3A32Z&sks=b&skv=2021-08-06&sig=YN0YPDkvF7VRV5M%2BukQWXyTT155/mS6v5lkeCRTBIYk%3D'"
            ]
          },
          "execution_count": 3,
          "metadata": {},
          "output_type": "execute_result"
        }
      ],
      "source": [
        "from openai import OpenAI\n",
        "client = OpenAI(api_key=OPENAI_API_KEY)\n",
        "\n",
        "response = client.images.generate(\n",
        "  model=\"dall-e-3\",\n",
        "  prompt=\"simple image of GNSS sattelite smiling\",\n",
        "  size=\"1024x1024\",\n",
        "  quality=\"hd\",\n",
        "  n=1,\n",
        ")\n",
        "\n",
        "image_url = response.data[0].url\n",
        "image_url"
      ]
    },
    {
      "cell_type": "code",
      "execution_count": null,
      "metadata": {},
      "outputs": [],
      "source": []
    }
  ],
  "metadata": {
    "colab": {
      "provenance": []
    },
    "kernelspec": {
      "display_name": "Python 3",
      "name": "python3"
    },
    "language_info": {
      "codemirror_mode": {
        "name": "ipython",
        "version": 3
      },
      "file_extension": ".py",
      "mimetype": "text/x-python",
      "name": "python",
      "nbconvert_exporter": "python",
      "pygments_lexer": "ipython3",
      "version": "3.12.1"
    }
  },
  "nbformat": 4,
  "nbformat_minor": 0
}
