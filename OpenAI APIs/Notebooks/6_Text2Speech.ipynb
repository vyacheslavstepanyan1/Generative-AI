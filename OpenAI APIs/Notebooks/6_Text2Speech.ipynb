{
  "nbformat": 4,
  "nbformat_minor": 0,
  "metadata": {
    "colab": {
      "provenance": []
    },
    "kernelspec": {
      "name": "python3",
      "display_name": "Python 3"
    },
    "language_info": {
      "name": "python"
    }
  },
  "cells": [
    {
      "cell_type": "code",
      "source": [
        "%%capture\n",
        "!pip install openai"
      ],
      "metadata": {
        "id": "NS51LDCQVlpE"
      },
      "execution_count": null,
      "outputs": []
    },
    {
      "cell_type": "code",
      "source": [
        "with open('apikey.txt','r') as f:\n",
        "  OPENAI_API_KEY = f.read()"
      ],
      "metadata": {
        "id": "l-3z8lvVVqEY"
      },
      "execution_count": null,
      "outputs": []
    },
    {
      "cell_type": "code",
      "execution_count": null,
      "metadata": {
        "colab": {
          "base_uri": "https://localhost:8080/"
        },
        "id": "I6AS6owOVa09",
        "outputId": "5f82e239-f634-4e42-c2ac-65ed9ee9ce78"
      },
      "outputs": [
        {
          "output_type": "stream",
          "name": "stderr",
          "text": [
            "<ipython-input-6-6f667c812975>:32: DeprecationWarning: Due to a bug, this method doesn't actually stream the response content, `.with_streaming_response.method()` should be used instead\n",
            "  response.stream_to_file(\"Charents.mp3\")\n"
          ]
        }
      ],
      "source": [
        "from openai import OpenAI\n",
        "client = OpenAI(api_key=OPENAI_API_KEY)\n",
        "\n",
        "response = client.audio.speech.create(\n",
        "  model=\"tts-1-hd\",\n",
        "  voice=\"alloy\",\n",
        "  input=\"\"\"Ես իմ անուշ Հայաստանի արևահամ բարն եմ սիրում,\n",
        "Մեր հին սազի ողբանվագ, լացակումած լարն եմ սիրում,\n",
        "Արնանման ծաղիկների ու վարդերի բույրը վառման,\n",
        "Ու նաիրյան աղջիկների հեզաճկուն պա՛րն եմ սիրում։\n",
        "\n",
        "Սիրում եմ մեր երկինքը մուգ, ջրերը ջինջ, լիճը լուսե,\n",
        "Արևն ամռան ու ձմեռվա վիշապաձայն բուքը վսեմ,\n",
        "Մթում կորած խրճիթների անհյուրընկալ պատերը սև,\n",
        "Ու հնամյա քաղաքների հազարամյա քա՛րն եմ սիրում։\n",
        "\n",
        "Ո՛ւր էլ լինեմ - չե՛մ մոռանա ես ողբաձայն երգերը մեր,\n",
        "Չե՜մ մոռանա աղոթք դարձած երկաթագիր գրքերը մեր,\n",
        "Ինչքան էլ սո՜ւր սիրտս խոցեն արյունաքամ վերքերը մեր -\n",
        "Էլի՛ ես որբ ու արնավառ իմ Հայաստան - յա՛րն եմ սիրում։\n",
        "\n",
        "Իմ կարոտած սրտի համար ո՛չ մի ուրիշ հեքիաթ չկա․\n",
        "Նարեկացու, Քուչակի պես լուսապսակ ճակատ չկա․\n",
        "Աշխա՛րհ անցի՛ր, Արարատի նման ճերմակ գագաթ չկա․\n",
        "Ինչպես անհաս փառքի ճամփա՝ ես իմ Մասիս սա՛րն եմ սիրում։\n",
        "\"\"\"\n",
        ")\n",
        "\n",
        "response.stream_to_file(\"Charents.mp3\")"
      ]
    },
    {
      "cell_type": "code",
      "source": [],
      "metadata": {
        "id": "1PJhrUwOWWbm"
      },
      "execution_count": null,
      "outputs": []
    }
  ]
}