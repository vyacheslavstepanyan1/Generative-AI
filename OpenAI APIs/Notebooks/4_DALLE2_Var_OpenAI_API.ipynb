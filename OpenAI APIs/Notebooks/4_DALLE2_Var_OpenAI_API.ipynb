{
  "nbformat": 4,
  "nbformat_minor": 0,
  "metadata": {
    "colab": {
      "provenance": []
    },
    "kernelspec": {
      "name": "python3",
      "display_name": "Python 3"
    },
    "language_info": {
      "name": "python"
    }
  },
  "cells": [
    {
      "cell_type": "code",
      "execution_count": null,
      "metadata": {
        "id": "OIwL7oxvW4Du"
      },
      "outputs": [],
      "source": [
        "%%capture\n",
        "!pip install openai"
      ]
    },
    {
      "cell_type": "code",
      "source": [
        "with open('apikey.txt','r') as f:\n",
        "  OPENAI_API_KEY = f.read()"
      ],
      "metadata": {
        "id": "xK5gy0VqfZS9"
      },
      "execution_count": null,
      "outputs": []
    },
    {
      "cell_type": "code",
      "source": [
        "from openai import OpenAI\n",
        "client = OpenAI(api_key=OPENAI_API_KEY)\n",
        "\n",
        "response = client.images.create_variation(\n",
        "  image=open(\"stonehenge.png\", \"rb\"),\n",
        "  n=2,\n",
        "  size=\"1024x1024\"\n",
        ")\n",
        "\n",
        "image_url = response.data[0].url\n",
        "image_url"
      ],
      "metadata": {
        "id": "kO0kUAdaW_Wv"
      },
      "execution_count": null,
      "outputs": []
    }
  ]
}