{
  "nbformat": 4,
  "nbformat_minor": 0,
  "metadata": {
    "colab": {
      "provenance": []
    },
    "kernelspec": {
      "name": "python3",
      "display_name": "Python 3"
    },
    "language_info": {
      "name": "python"
    }
  },
  "cells": [
    {
      "cell_type": "code",
      "execution_count": null,
      "metadata": {
        "id": "OIwL7oxvW4Du"
      },
      "outputs": [],
      "source": [
        "%%capture\n",
        "!pip install openai"
      ]
    },
    {
      "cell_type": "code",
      "source": [
        "with open('apikey.txt','r') as f:\n",
        "  OPENAI_API_KEY = f.read()"
      ],
      "metadata": {
        "id": "xK5gy0VqfZS9"
      },
      "execution_count": null,
      "outputs": []
    },
    {
      "cell_type": "code",
      "source": [
        "import requests\n",
        "\n",
        "url = \"https://api.openai.com/v1/moderations\"\n",
        "headers = {\n",
        "    \"Content-Type\": \"application/json\",\n",
        "    \"Authorization\": f'Bearer {OPENAI_API_KEY}'  # Replace YOUR_OPENAI_API_KEY with your actual API key\n",
        "}\n",
        "data = {\n",
        "    \"input\": \"I hate you!\"\n",
        "}\n",
        "\n",
        "response = requests.post(url, headers=headers, json=data)\n",
        "\n",
        "response.json()\n"
      ],
      "metadata": {
        "colab": {
          "base_uri": "https://localhost:8080/"
        },
        "id": "kO0kUAdaW_Wv",
        "outputId": "121897c4-8485-4ca6-bac5-bf6a0bb17eb9"
      },
      "execution_count": null,
      "outputs": [
        {
          "output_type": "execute_result",
          "data": {
            "text/plain": [
              "{'id': 'modr-8kFvfpmVaDH1wROkdHERFEBW9LA35',\n",
              " 'model': 'text-moderation-006',\n",
              " 'results': [{'flagged': True,\n",
              "   'categories': {'sexual': False,\n",
              "    'hate': False,\n",
              "    'harassment': True,\n",
              "    'self-harm': False,\n",
              "    'sexual/minors': False,\n",
              "    'hate/threatening': False,\n",
              "    'violence/graphic': False,\n",
              "    'self-harm/intent': False,\n",
              "    'self-harm/instructions': False,\n",
              "    'harassment/threatening': False,\n",
              "    'violence': False},\n",
              "   'category_scores': {'sexual': 1.5374020222225226e-05,\n",
              "    'hate': 0.000951626745518297,\n",
              "    'harassment': 0.5748177766799927,\n",
              "    'self-harm': 6.232600213706974e-08,\n",
              "    'sexual/minors': 7.213510144765678e-08,\n",
              "    'hate/threatening': 2.3196207621367648e-08,\n",
              "    'violence/graphic': 5.821654269766441e-09,\n",
              "    'self-harm/intent': 1.6108138822801266e-08,\n",
              "    'self-harm/instructions': 1.2353195133485428e-09,\n",
              "    'harassment/threatening': 5.335967944120057e-05,\n",
              "    'violence': 9.53926210058853e-05}}]}"
            ]
          },
          "metadata": {},
          "execution_count": 5
        }
      ]
    }
  ]
}