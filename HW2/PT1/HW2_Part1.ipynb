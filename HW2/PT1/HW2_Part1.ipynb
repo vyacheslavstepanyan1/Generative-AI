{
  "cells": [
    {
      "cell_type": "markdown",
      "metadata": {},
      "source": [
        "# Generative AI | Homework 2 - Part 1 | Vyacheslav Stepanyan"
      ]
    },
    {
      "cell_type": "markdown",
      "metadata": {
        "id": "NcAWYOzenJFq"
      },
      "source": [
        "# Task Overview\n",
        "\n",
        "**Objective:** Predict data scientist salaries using Kaggle's Data Science Salary [dataset](https://www.kaggle.com/datasets/arnabchaki/data-science-salaries-2023/data) through a neural network model.\n",
        "\n",
        "# Task Description\n",
        "\n",
        "In this task, you will delve into the data science job market, with the goal of predicting a data scientist's salary. You will use a range of features that potentially influence salary, such as experience, education level, geographic location, and job specificity.\n",
        "\n",
        "# Requirements\n",
        "\n",
        "- **Data Preprocessing**:\n",
        "  - **Outlier Removal**: Identify and remove outliers in the salary data, as these can skew the results and affect the performance of your neural network model. In order not to spend much time on it, do it only for target variable. Plot the target variable to see whether it has distribution close to normal afte outlier removal.\n",
        "\n",
        "- **Encoding**:\n",
        "  - **Target Encoding**: Apply target encoding to categorical features to transform them into meaningful numerical values. Remember that you need to fit it only on train data and then apply to train and test to eschew from data leakage.\n",
        "\n",
        "\n",
        "- **Feature Scaling**:\n",
        " - Standardize your features using StandardScaler or MinMaxScaler to ensure that all features contribute equally to the model and to facilitate the model's convergence. Remember that you need to fit it only on train data and then apply to train and test to eschew from data leakage.\n",
        "\n",
        "- **Neural Network Model**:\n",
        "  - Construct a neural network with at least two hidden layers. Experiment with different numbers of neurons, activation functions, and layer configurations to find the best architecture for your model.\n",
        "\n",
        "- **Loss Function**:\n",
        "\n",
        " - Use Mean Absolute Percentage Error (MAPE) as your loss function to penalize errors in prediction proportionally to the true salary values. This can be particularly useful when you want the model to give more importance to relative errors rather than absolute errors. You may need to define custom loss for this purpose.\n",
        "\n",
        "- **Model Evaluation**:\n",
        "  - Evaluate your model using MAPE as the primary metric.\n",
        "\n",
        "- **Report**:\n",
        " - Document your findings, including the preprocessing steps, model architecture choices, evaluation results, and any insights you've gained from this exercise.\n",
        "\n",
        " **Hyperparameter Tuning** You are not required to do hyperparameter tuning but if you decide to do so (highly encouraged), do it with cross-validation.\n",
        "\n",
        " **Baseline** If you get MAPE of 35% or lower, you have good enough model. Moreover, you can use LightGBM for salary prediction and compare MAPE of two models."
      ]
    },
    {
      "cell_type": "code",
      "execution_count": 1,
      "metadata": {},
      "outputs": [
        {
          "name": "stderr",
          "output_type": "stream",
          "text": [
            "C:\\Users\\User\\AppData\\Local\\Temp\\ipykernel_30784\\3417683664.py:1: DeprecationWarning: \n",
            "Pyarrow will become a required dependency of pandas in the next major release of pandas (pandas 3.0),\n",
            "(to allow more performant data types, such as the Arrow string type, and better interoperability with other libraries)\n",
            "but was not found to be installed on your system.\n",
            "If this would cause problems for you,\n",
            "please provide us feedback at https://github.com/pandas-dev/pandas/issues/54466\n",
            "        \n",
            "  import pandas as pd\n"
          ]
        }
      ],
      "source": [
        "\n",
        "import pandas as pd\n",
        "import matplotlib.pyplot as plt\n",
        "from category_encoders import TargetEncoder\n",
        "from sklearn.preprocessing import StandardScaler\n",
        "from sklearn.model_selection import train_test_split\n",
        "import torch\n",
        "import torch.nn as nn\n",
        "import torch.optim as optim\n",
        "from torch.utils.data import DataLoader, TensorDataset\n",
        "import torch.nn.functional as F\n",
        "from tqdm import tqdm"
      ]
    },
    {
      "cell_type": "code",
      "execution_count": 2,
      "metadata": {},
      "outputs": [
        {
          "name": "stdout",
          "output_type": "stream",
          "text": [
            "cuda:0\n"
          ]
        }
      ],
      "source": [
        "device = torch.device(\"cuda:0\" if torch.cuda.is_available() else \"cpu\")\n",
        "print(device)\n"
      ]
    },
    {
      "cell_type": "code",
      "execution_count": 3,
      "metadata": {},
      "outputs": [
        {
          "data": {
            "text/plain": [
              "Index(['work_year', 'experience_level', 'employment_type', 'job_title',\n",
              "       'salary', 'salary_currency', 'salary_in_usd', 'employee_residence',\n",
              "       'remote_ratio', 'company_location', 'company_size'],\n",
              "      dtype='object')"
            ]
          },
          "execution_count": 3,
          "metadata": {},
          "output_type": "execute_result"
        }
      ],
      "source": [
        "df = pd.read_csv('ds_salaries.csv')\n",
        "df.columns"
      ]
    },
    {
      "cell_type": "code",
      "execution_count": 4,
      "metadata": {
        "id": "WdluAQKg9Nbg"
      },
      "outputs": [
        {
          "data": {
            "text/html": [
              "<div>\n",
              "<style scoped>\n",
              "    .dataframe tbody tr th:only-of-type {\n",
              "        vertical-align: middle;\n",
              "    }\n",
              "\n",
              "    .dataframe tbody tr th {\n",
              "        vertical-align: top;\n",
              "    }\n",
              "\n",
              "    .dataframe thead th {\n",
              "        text-align: right;\n",
              "    }\n",
              "</style>\n",
              "<table border=\"1\" class=\"dataframe\">\n",
              "  <thead>\n",
              "    <tr style=\"text-align: right;\">\n",
              "      <th></th>\n",
              "      <th>salary_in_usd</th>\n",
              "      <th>work_year</th>\n",
              "      <th>experience_level</th>\n",
              "      <th>employment_type</th>\n",
              "      <th>job_title</th>\n",
              "      <th>employee_residence</th>\n",
              "      <th>remote_ratio</th>\n",
              "      <th>company_location</th>\n",
              "      <th>company_size</th>\n",
              "    </tr>\n",
              "  </thead>\n",
              "  <tbody>\n",
              "    <tr>\n",
              "      <th>0</th>\n",
              "      <td>85847</td>\n",
              "      <td>2023</td>\n",
              "      <td>SE</td>\n",
              "      <td>FT</td>\n",
              "      <td>Principal Data Scientist</td>\n",
              "      <td>ES</td>\n",
              "      <td>100</td>\n",
              "      <td>ES</td>\n",
              "      <td>L</td>\n",
              "    </tr>\n",
              "    <tr>\n",
              "      <th>1</th>\n",
              "      <td>30000</td>\n",
              "      <td>2023</td>\n",
              "      <td>MI</td>\n",
              "      <td>CT</td>\n",
              "      <td>ML Engineer</td>\n",
              "      <td>US</td>\n",
              "      <td>100</td>\n",
              "      <td>US</td>\n",
              "      <td>S</td>\n",
              "    </tr>\n",
              "    <tr>\n",
              "      <th>2</th>\n",
              "      <td>25500</td>\n",
              "      <td>2023</td>\n",
              "      <td>MI</td>\n",
              "      <td>CT</td>\n",
              "      <td>ML Engineer</td>\n",
              "      <td>US</td>\n",
              "      <td>100</td>\n",
              "      <td>US</td>\n",
              "      <td>S</td>\n",
              "    </tr>\n",
              "    <tr>\n",
              "      <th>3</th>\n",
              "      <td>175000</td>\n",
              "      <td>2023</td>\n",
              "      <td>SE</td>\n",
              "      <td>FT</td>\n",
              "      <td>Data Scientist</td>\n",
              "      <td>CA</td>\n",
              "      <td>100</td>\n",
              "      <td>CA</td>\n",
              "      <td>M</td>\n",
              "    </tr>\n",
              "    <tr>\n",
              "      <th>4</th>\n",
              "      <td>120000</td>\n",
              "      <td>2023</td>\n",
              "      <td>SE</td>\n",
              "      <td>FT</td>\n",
              "      <td>Data Scientist</td>\n",
              "      <td>CA</td>\n",
              "      <td>100</td>\n",
              "      <td>CA</td>\n",
              "      <td>M</td>\n",
              "    </tr>\n",
              "  </tbody>\n",
              "</table>\n",
              "</div>"
            ],
            "text/plain": [
              "   salary_in_usd  work_year experience_level employment_type  \\\n",
              "0          85847       2023               SE              FT   \n",
              "1          30000       2023               MI              CT   \n",
              "2          25500       2023               MI              CT   \n",
              "3         175000       2023               SE              FT   \n",
              "4         120000       2023               SE              FT   \n",
              "\n",
              "                  job_title employee_residence  remote_ratio company_location  \\\n",
              "0  Principal Data Scientist                 ES           100               ES   \n",
              "1               ML Engineer                 US           100               US   \n",
              "2               ML Engineer                 US           100               US   \n",
              "3            Data Scientist                 CA           100               CA   \n",
              "4            Data Scientist                 CA           100               CA   \n",
              "\n",
              "  company_size  \n",
              "0            L  \n",
              "1            S  \n",
              "2            S  \n",
              "3            M  \n",
              "4            M  "
            ]
          },
          "execution_count": 4,
          "metadata": {},
          "output_type": "execute_result"
        }
      ],
      "source": [
        "# Read the dataset\n",
        "df = pd.read_csv('ds_salaries.csv')\n",
        "\n",
        "# Display the first few rows of the DataFrame\n",
        "df = df[['salary_in_usd', 'work_year', 'experience_level', 'employment_type', 'job_title', 'employee_residence', 'remote_ratio', 'company_location', 'company_size']]\n",
        "df.head()\n"
      ]
    },
    {
      "cell_type": "code",
      "execution_count": 5,
      "metadata": {},
      "outputs": [
        {
          "data": {
            "image/png": "[encoded data removed]",
            "text/plain": [
              "<Figure size 640x480 with 1 Axes>"
            ]
          },
          "metadata": {},
          "output_type": "display_data"
        }
      ],
      "source": [
        "plt.boxplot(df['salary_in_usd'], vert=False)\n",
        "plt.title(f'Outlier Check')\n",
        "plt.xlabel('salary_in_usd')\n",
        "plt.grid()\n",
        "plt.show()"
      ]
    },
    {
      "cell_type": "code",
      "execution_count": 6,
      "metadata": {},
      "outputs": [
        {
          "data": {
            "image/png": "[encoded data removed]",
            "text/plain": [
              "<Figure size 640x480 with 1 Axes>"
            ]
          },
          "metadata": {},
          "output_type": "display_data"
        }
      ],
      "source": [
        "# Remove outliers\n",
        "Q1 = df['salary_in_usd'].quantile(0.25)\n",
        "Q3 = df['salary_in_usd'].quantile(0.75)\n",
        "Q_range = Q3 - Q1\n",
        "\n",
        "df = df[(df['salary_in_usd'] > Q1 - 1.5 * Q_range) & (df['salary_in_usd'] < Q3 + 1.5 * Q_range)]\n",
        "\n",
        "plt.hist(df['salary_in_usd'], bins=30)\n",
        "plt.title('Distribution of Salary after Outlier Removal')\n",
        "plt.show()"
      ]
    },
    {
      "cell_type": "code",
      "execution_count": 7,
      "metadata": {},
      "outputs": [],
      "source": [
        "# Split the data into training and testing sets\n",
        "train_df, test_df = train_test_split(df, test_size=0.2, random_state=42)"
      ]
    },
    {
      "cell_type": "code",
      "execution_count": 8,
      "metadata": {},
      "outputs": [],
      "source": [
        "# Target Encoding\n",
        "cat_features = ['experience_level', 'employment_type', 'job_title', 'employee_residence', 'company_location', 'company_size']\n",
        "target_encoder = TargetEncoder()\n",
        "train_df[cat_features] = target_encoder.fit_transform(train_df[cat_features], train_df['salary_in_usd'])\n",
        "test_df[cat_features] = target_encoder.transform(test_df[cat_features])  # Apply encoding to test data"
      ]
    },
    {
      "cell_type": "code",
      "execution_count": 9,
      "metadata": {},
      "outputs": [],
      "source": [
        "# Feature Scaling\n",
        "scale_features = ['experience_level', 'work_year', 'employment_type', 'job_title', 'employee_residence', 'remote_ratio', 'company_location', 'company_size']\n",
        "scaler = StandardScaler()\n",
        "train_df[scale_features] = scaler.fit_transform(train_df[scale_features])\n",
        "test_df[scale_features] = scaler.transform(test_df[scale_features])  # Apply scaling to test data"
      ]
    },
    {
      "cell_type": "code",
      "execution_count": 10,
      "metadata": {},
      "outputs": [],
      "source": [
        "# Convert data to PyTorch tensors\n",
        "X_train = torch.tensor(train_df.drop('salary_in_usd', axis=1).values, dtype=torch.float32)\n",
        "X_train = X_train.to(device)\n",
        "y_train = torch.tensor(train_df['salary_in_usd'].values, dtype=torch.float32)\n",
        "y_train = y_train.to(device)\n",
        "\n",
        "X_test = torch.tensor(test_df.drop('salary_in_usd', axis=1).values, dtype=torch.float32)\n",
        "X_test = X_test.to(device)\n",
        "y_test = torch.tensor(test_df['salary_in_usd'].values, dtype=torch.float32)\n",
        "y_test = y_test.to(device)"
      ]
    },
    {
      "cell_type": "code",
      "execution_count": 14,
      "metadata": {},
      "outputs": [],
      "source": [
        "# Convert data to PyTorch tensors\n",
        "X_train = torch.tensor(train_df.drop('salary_in_usd', axis=1).values, dtype=torch.float32)\n",
        "X_train = X_train.to('cpu')\n",
        "y_train = torch.tensor(train_df['salary_in_usd'].values, dtype=torch.float32)\n",
        "y_train = y_train.to('cpu')\n",
        "\n",
        "X_test = torch.tensor(test_df.drop('salary_in_usd', axis=1).values, dtype=torch.float32)\n",
        "X_test = X_test.to('cpu')\n",
        "y_test = torch.tensor(test_df['salary_in_usd'].values, dtype=torch.float32)\n",
        "y_test = y_test.to('cpu')"
      ]
    },
    {
      "cell_type": "code",
      "execution_count": 15,
      "metadata": {},
      "outputs": [],
      "source": [
        "# Define the neural network architecture\n",
        "class SalaryPredictionModel(nn.Module):\n",
        "    def __init__(self, input_size):\n",
        "        super(SalaryPredictionModel, self).__init__()\n",
        "        self.fc1 = nn.Linear(input_size, 64)\n",
        "        self.relu1 = nn.ReLU()\n",
        "        self.fc2 = nn.Linear(64, 32)\n",
        "        self.relu2 = nn.ReLU()\n",
        "        self.fc3 = nn.Linear(32, 32)\n",
        "        self.relu3 = nn.ReLU()\n",
        "        self.fc4 = nn.Linear(32, 1)\n",
        "        self.relu4 = nn.ReLU()\n",
        "\n",
        "    def forward(self, x):\n",
        "        x = self.relu1(self.fc1(x))\n",
        "        x = self.relu2(self.fc2(x))\n",
        "        x = self.relu3(self.fc3(x))\n",
        "        x = self.relu4(self.fc4(x))\n",
        "        return x"
      ]
    },
    {
      "cell_type": "code",
      "execution_count": 16,
      "metadata": {},
      "outputs": [],
      "source": [
        "# Initialize the model\n",
        "input_size = X_train.shape[1]\n",
        "model = SalaryPredictionModel(input_size)\n",
        "#model = model.cuda()"
      ]
    },
    {
      "cell_type": "code",
      "execution_count": 17,
      "metadata": {},
      "outputs": [],
      "source": [
        "# MAPE Loss \n",
        "class MAPELoss(nn.Module):\n",
        "    def __init__(self):\n",
        "        super(MAPELoss, self).__init__()\n",
        "\n",
        "    def forward(self, y_pred, y_true):\n",
        "        eps = 1e-8\n",
        "        mape = torch.mean(torch.abs((y_true - y_pred)/(y_true+ eps))) *100\n",
        "        \n",
        "        return mape"
      ]
    },
    {
      "cell_type": "code",
      "execution_count": 18,
      "metadata": {},
      "outputs": [
        {
          "name": "stderr",
          "output_type": "stream",
          "text": [
            "c:\\Users\\User\\Desktop\\AUA\\Generative AI\\GenAI_venv\\Lib\\site-packages\\tqdm\\auto.py:21: TqdmWarning: IProgress not found. Please update jupyter and ipywidgets. See https://ipywidgets.readthedocs.io/en/stable/user_install.html\n",
            "  from .autonotebook import tqdm as notebook_tqdm\n"
          ]
        }
      ],
      "source": [
        "# Define loss function and optimizer\n",
        "lr = 0.0001\n",
        "criterion = MAPELoss()  # Using Mean Absolute Error (MAE) as loss function\n",
        "optimizer = optim.Adam(model.parameters(), lr=lr)\n",
        "#criterion = criterion.cuda()\n"
      ]
    },
    {
      "cell_type": "code",
      "execution_count": 19,
      "metadata": {},
      "outputs": [],
      "source": [
        "batch_size = 1\n",
        "train_loader = DataLoader(list(zip(X_train, y_train)), shuffle=False,batch_size= batch_size)\n",
        "test_loader = DataLoader(list(zip(X_test, y_test)), shuffle=False, batch_size= batch_size)"
      ]
    },
    {
      "cell_type": "code",
      "execution_count": 20,
      "metadata": {},
      "outputs": [
        {
          "name": "stderr",
          "output_type": "stream",
          "text": [
            "100%|██████████| 2953/2953 [00:02<00:00, 1383.53it/s]\n"
          ]
        },
        {
          "name": "stdout",
          "output_type": "stream",
          "text": [
            "Epoch 1/200 - Average Loss: 99.95201880496678\n"
          ]
        },
        {
          "name": "stderr",
          "output_type": "stream",
          "text": [
            "100%|██████████| 2953/2953 [00:02<00:00, 1297.10it/s]\n"
          ]
        },
        {
          "name": "stdout",
          "output_type": "stream",
          "text": [
            "Epoch 2/200 - Average Loss: 99.16593255812622\n"
          ]
        },
        {
          "name": "stderr",
          "output_type": "stream",
          "text": [
            "100%|██████████| 2953/2953 [00:02<00:00, 1167.73it/s]\n"
          ]
        },
        {
          "name": "stdout",
          "output_type": "stream",
          "text": [
            "Epoch 3/200 - Average Loss: 96.40574721211382\n"
          ]
        },
        {
          "name": "stderr",
          "output_type": "stream",
          "text": [
            "100%|██████████| 2953/2953 [00:02<00:00, 1224.85it/s]\n"
          ]
        },
        {
          "name": "stdout",
          "output_type": "stream",
          "text": [
            "Epoch 4/200 - Average Loss: 92.17379089198752\n"
          ]
        },
        {
          "name": "stderr",
          "output_type": "stream",
          "text": [
            "100%|██████████| 2953/2953 [00:02<00:00, 1252.06it/s]\n"
          ]
        },
        {
          "name": "stdout",
          "output_type": "stream",
          "text": [
            "Epoch 5/200 - Average Loss: 87.07461371334617\n"
          ]
        },
        {
          "name": "stderr",
          "output_type": "stream",
          "text": [
            "100%|██████████| 2953/2953 [00:02<00:00, 1178.60it/s]\n"
          ]
        },
        {
          "name": "stdout",
          "output_type": "stream",
          "text": [
            "Epoch 6/200 - Average Loss: 80.80890545257058\n"
          ]
        },
        {
          "name": "stderr",
          "output_type": "stream",
          "text": [
            "100%|██████████| 2953/2953 [00:02<00:00, 1168.89it/s]\n"
          ]
        },
        {
          "name": "stdout",
          "output_type": "stream",
          "text": [
            "Epoch 7/200 - Average Loss: 71.86889776852911\n"
          ]
        },
        {
          "name": "stderr",
          "output_type": "stream",
          "text": [
            "100%|██████████| 2953/2953 [00:02<00:00, 1239.50it/s]\n"
          ]
        },
        {
          "name": "stdout",
          "output_type": "stream",
          "text": [
            "Epoch 8/200 - Average Loss: 59.92855094414857\n"
          ]
        },
        {
          "name": "stderr",
          "output_type": "stream",
          "text": [
            "100%|██████████| 2953/2953 [00:02<00:00, 1238.05it/s]\n"
          ]
        },
        {
          "name": "stdout",
          "output_type": "stream",
          "text": [
            "Epoch 9/200 - Average Loss: 48.615815888697966\n"
          ]
        },
        {
          "name": "stderr",
          "output_type": "stream",
          "text": [
            "100%|██████████| 2953/2953 [00:02<00:00, 1137.78it/s]\n"
          ]
        },
        {
          "name": "stdout",
          "output_type": "stream",
          "text": [
            "Epoch 10/200 - Average Loss: 41.2664123538628\n"
          ]
        },
        {
          "name": "stderr",
          "output_type": "stream",
          "text": [
            "100%|██████████| 2953/2953 [00:02<00:00, 1218.03it/s]\n"
          ]
        },
        {
          "name": "stdout",
          "output_type": "stream",
          "text": [
            "Epoch 11/200 - Average Loss: 37.54150883508696\n"
          ]
        },
        {
          "name": "stderr",
          "output_type": "stream",
          "text": [
            "100%|██████████| 2953/2953 [00:02<00:00, 1209.09it/s]\n"
          ]
        },
        {
          "name": "stdout",
          "output_type": "stream",
          "text": [
            "Epoch 12/200 - Average Loss: 35.56293419784617\n"
          ]
        },
        {
          "name": "stderr",
          "output_type": "stream",
          "text": [
            "100%|██████████| 2953/2953 [00:02<00:00, 1238.88it/s]\n"
          ]
        },
        {
          "name": "stdout",
          "output_type": "stream",
          "text": [
            "Epoch 13/200 - Average Loss: 34.29471013652614\n"
          ]
        },
        {
          "name": "stderr",
          "output_type": "stream",
          "text": [
            "100%|██████████| 2953/2953 [00:02<00:00, 1327.69it/s]\n"
          ]
        },
        {
          "name": "stdout",
          "output_type": "stream",
          "text": [
            "Epoch 14/200 - Average Loss: 33.42217609763733\n"
          ]
        },
        {
          "name": "stderr",
          "output_type": "stream",
          "text": [
            "100%|██████████| 2953/2953 [00:02<00:00, 1326.28it/s]\n"
          ]
        },
        {
          "name": "stdout",
          "output_type": "stream",
          "text": [
            "Epoch 15/200 - Average Loss: 32.76581766830661\n"
          ]
        },
        {
          "name": "stderr",
          "output_type": "stream",
          "text": [
            "100%|██████████| 2953/2953 [00:02<00:00, 1344.31it/s]\n"
          ]
        },
        {
          "name": "stdout",
          "output_type": "stream",
          "text": [
            "Epoch 16/200 - Average Loss: 32.28047462382038\n"
          ]
        },
        {
          "name": "stderr",
          "output_type": "stream",
          "text": [
            "100%|██████████| 2953/2953 [00:02<00:00, 1325.29it/s]\n"
          ]
        },
        {
          "name": "stdout",
          "output_type": "stream",
          "text": [
            "Epoch 17/200 - Average Loss: 31.922111218094006\n"
          ]
        },
        {
          "name": "stderr",
          "output_type": "stream",
          "text": [
            "100%|██████████| 2953/2953 [00:02<00:00, 1346.34it/s]\n"
          ]
        },
        {
          "name": "stdout",
          "output_type": "stream",
          "text": [
            "Epoch 18/200 - Average Loss: 31.62820500814565\n"
          ]
        },
        {
          "name": "stderr",
          "output_type": "stream",
          "text": [
            "100%|██████████| 2953/2953 [00:02<00:00, 1339.26it/s]\n"
          ]
        },
        {
          "name": "stdout",
          "output_type": "stream",
          "text": [
            "Epoch 19/200 - Average Loss: 31.393298991759966\n"
          ]
        },
        {
          "name": "stderr",
          "output_type": "stream",
          "text": [
            "100%|██████████| 2953/2953 [00:02<00:00, 1291.21it/s]\n"
          ]
        },
        {
          "name": "stdout",
          "output_type": "stream",
          "text": [
            "Epoch 20/200 - Average Loss: 31.199605513295324\n"
          ]
        },
        {
          "name": "stderr",
          "output_type": "stream",
          "text": [
            "100%|██████████| 2953/2953 [00:02<00:00, 1270.60it/s]\n"
          ]
        },
        {
          "name": "stdout",
          "output_type": "stream",
          "text": [
            "Epoch 21/200 - Average Loss: 31.02975773789579\n"
          ]
        },
        {
          "name": "stderr",
          "output_type": "stream",
          "text": [
            "100%|██████████| 2953/2953 [00:02<00:00, 1243.07it/s]\n"
          ]
        },
        {
          "name": "stdout",
          "output_type": "stream",
          "text": [
            "Epoch 22/200 - Average Loss: 30.92377575866555\n"
          ]
        },
        {
          "name": "stderr",
          "output_type": "stream",
          "text": [
            "100%|██████████| 2953/2953 [00:02<00:00, 1274.30it/s]\n"
          ]
        },
        {
          "name": "stdout",
          "output_type": "stream",
          "text": [
            "Epoch 23/200 - Average Loss: 30.82949961954649\n"
          ]
        },
        {
          "name": "stderr",
          "output_type": "stream",
          "text": [
            "100%|██████████| 2953/2953 [00:02<00:00, 1338.29it/s]\n"
          ]
        },
        {
          "name": "stdout",
          "output_type": "stream",
          "text": [
            "Epoch 24/200 - Average Loss: 30.745866608653824\n"
          ]
        },
        {
          "name": "stderr",
          "output_type": "stream",
          "text": [
            "100%|██████████| 2953/2953 [00:02<00:00, 1321.51it/s]\n"
          ]
        },
        {
          "name": "stdout",
          "output_type": "stream",
          "text": [
            "Epoch 25/200 - Average Loss: 30.6651481233242\n"
          ]
        },
        {
          "name": "stderr",
          "output_type": "stream",
          "text": [
            "100%|██████████| 2953/2953 [00:02<00:00, 1251.25it/s]\n"
          ]
        },
        {
          "name": "stdout",
          "output_type": "stream",
          "text": [
            "Epoch 26/200 - Average Loss: 30.590580462238332\n"
          ]
        },
        {
          "name": "stderr",
          "output_type": "stream",
          "text": [
            "100%|██████████| 2953/2953 [00:02<00:00, 1309.20it/s]\n"
          ]
        },
        {
          "name": "stdout",
          "output_type": "stream",
          "text": [
            "Epoch 27/200 - Average Loss: 30.51776786401989\n"
          ]
        },
        {
          "name": "stderr",
          "output_type": "stream",
          "text": [
            "100%|██████████| 2953/2953 [00:02<00:00, 1317.72it/s]\n"
          ]
        },
        {
          "name": "stdout",
          "output_type": "stream",
          "text": [
            "Epoch 28/200 - Average Loss: 30.450048590586714\n"
          ]
        },
        {
          "name": "stderr",
          "output_type": "stream",
          "text": [
            "100%|██████████| 2953/2953 [00:02<00:00, 1306.12it/s]\n"
          ]
        },
        {
          "name": "stdout",
          "output_type": "stream",
          "text": [
            "Epoch 29/200 - Average Loss: 30.385465595390254\n"
          ]
        },
        {
          "name": "stderr",
          "output_type": "stream",
          "text": [
            "100%|██████████| 2953/2953 [00:02<00:00, 1297.78it/s]\n"
          ]
        },
        {
          "name": "stdout",
          "output_type": "stream",
          "text": [
            "Epoch 30/200 - Average Loss: 30.32250620642684\n"
          ]
        },
        {
          "name": "stderr",
          "output_type": "stream",
          "text": [
            "100%|██████████| 2953/2953 [00:02<00:00, 1287.49it/s]\n"
          ]
        },
        {
          "name": "stdout",
          "output_type": "stream",
          "text": [
            "Epoch 31/200 - Average Loss: 30.265644275981025\n"
          ]
        },
        {
          "name": "stderr",
          "output_type": "stream",
          "text": [
            "100%|██████████| 2953/2953 [00:02<00:00, 1207.54it/s]\n"
          ]
        },
        {
          "name": "stdout",
          "output_type": "stream",
          "text": [
            "Epoch 32/200 - Average Loss: 30.210398472969814\n"
          ]
        },
        {
          "name": "stderr",
          "output_type": "stream",
          "text": [
            "100%|██████████| 2953/2953 [00:02<00:00, 1215.39it/s]\n"
          ]
        },
        {
          "name": "stdout",
          "output_type": "stream",
          "text": [
            "Epoch 33/200 - Average Loss: 30.158062415156493\n"
          ]
        },
        {
          "name": "stderr",
          "output_type": "stream",
          "text": [
            "100%|██████████| 2953/2953 [00:02<00:00, 1323.53it/s]\n"
          ]
        },
        {
          "name": "stdout",
          "output_type": "stream",
          "text": [
            "Epoch 34/200 - Average Loss: 30.109428423527493\n"
          ]
        },
        {
          "name": "stderr",
          "output_type": "stream",
          "text": [
            "100%|██████████| 2953/2953 [00:02<00:00, 1293.86it/s]\n"
          ]
        },
        {
          "name": "stdout",
          "output_type": "stream",
          "text": [
            "Epoch 35/200 - Average Loss: 30.066788563002095\n"
          ]
        },
        {
          "name": "stderr",
          "output_type": "stream",
          "text": [
            "100%|██████████| 2953/2953 [00:02<00:00, 1286.81it/s]\n"
          ]
        },
        {
          "name": "stdout",
          "output_type": "stream",
          "text": [
            "Epoch 36/200 - Average Loss: 30.02823516338844\n"
          ]
        },
        {
          "name": "stderr",
          "output_type": "stream",
          "text": [
            "100%|██████████| 2953/2953 [00:02<00:00, 1297.10it/s]\n"
          ]
        },
        {
          "name": "stdout",
          "output_type": "stream",
          "text": [
            "Epoch 37/200 - Average Loss: 29.989858310667767\n"
          ]
        },
        {
          "name": "stderr",
          "output_type": "stream",
          "text": [
            "100%|██████████| 2953/2953 [00:02<00:00, 1155.43it/s]\n"
          ]
        },
        {
          "name": "stdout",
          "output_type": "stream",
          "text": [
            "Epoch 38/200 - Average Loss: 29.951753600120842\n"
          ]
        },
        {
          "name": "stderr",
          "output_type": "stream",
          "text": [
            "100%|██████████| 2953/2953 [00:02<00:00, 1200.73it/s]\n"
          ]
        },
        {
          "name": "stdout",
          "output_type": "stream",
          "text": [
            "Epoch 39/200 - Average Loss: 29.92012146997903\n"
          ]
        },
        {
          "name": "stderr",
          "output_type": "stream",
          "text": [
            "100%|██████████| 2953/2953 [00:02<00:00, 1224.80it/s]\n"
          ]
        },
        {
          "name": "stdout",
          "output_type": "stream",
          "text": [
            "Epoch 40/200 - Average Loss: 29.887723500969987\n"
          ]
        },
        {
          "name": "stderr",
          "output_type": "stream",
          "text": [
            "100%|██████████| 2953/2953 [00:02<00:00, 1217.71it/s]\n"
          ]
        },
        {
          "name": "stdout",
          "output_type": "stream",
          "text": [
            "Epoch 41/200 - Average Loss: 29.858818563962714\n"
          ]
        },
        {
          "name": "stderr",
          "output_type": "stream",
          "text": [
            "100%|██████████| 2953/2953 [00:02<00:00, 1249.55it/s]\n"
          ]
        },
        {
          "name": "stdout",
          "output_type": "stream",
          "text": [
            "Epoch 42/200 - Average Loss: 29.83076272829899\n"
          ]
        },
        {
          "name": "stderr",
          "output_type": "stream",
          "text": [
            "100%|██████████| 2953/2953 [00:02<00:00, 1196.94it/s]\n"
          ]
        },
        {
          "name": "stdout",
          "output_type": "stream",
          "text": [
            "Epoch 43/200 - Average Loss: 29.802045861259735\n"
          ]
        },
        {
          "name": "stderr",
          "output_type": "stream",
          "text": [
            "100%|██████████| 2953/2953 [00:02<00:00, 1216.97it/s]\n"
          ]
        },
        {
          "name": "stdout",
          "output_type": "stream",
          "text": [
            "Epoch 44/200 - Average Loss: 29.775032855894747\n"
          ]
        },
        {
          "name": "stderr",
          "output_type": "stream",
          "text": [
            "100%|██████████| 2953/2953 [00:02<00:00, 1214.54it/s]\n"
          ]
        },
        {
          "name": "stdout",
          "output_type": "stream",
          "text": [
            "Epoch 45/200 - Average Loss: 29.74685066161047\n"
          ]
        },
        {
          "name": "stderr",
          "output_type": "stream",
          "text": [
            "100%|██████████| 2953/2953 [00:02<00:00, 1236.54it/s]\n"
          ]
        },
        {
          "name": "stdout",
          "output_type": "stream",
          "text": [
            "Epoch 46/200 - Average Loss: 29.720062675574574\n"
          ]
        },
        {
          "name": "stderr",
          "output_type": "stream",
          "text": [
            "100%|██████████| 2953/2953 [00:02<00:00, 1222.51it/s]\n"
          ]
        },
        {
          "name": "stdout",
          "output_type": "stream",
          "text": [
            "Epoch 47/200 - Average Loss: 29.694068514647974\n"
          ]
        },
        {
          "name": "stderr",
          "output_type": "stream",
          "text": [
            "100%|██████████| 2953/2953 [00:02<00:00, 1240.31it/s]\n"
          ]
        },
        {
          "name": "stdout",
          "output_type": "stream",
          "text": [
            "Epoch 48/200 - Average Loss: 29.665986212032895\n"
          ]
        },
        {
          "name": "stderr",
          "output_type": "stream",
          "text": [
            "100%|██████████| 2953/2953 [00:02<00:00, 1217.92it/s]\n"
          ]
        },
        {
          "name": "stdout",
          "output_type": "stream",
          "text": [
            "Epoch 49/200 - Average Loss: 29.64491237948191\n"
          ]
        },
        {
          "name": "stderr",
          "output_type": "stream",
          "text": [
            "100%|██████████| 2953/2953 [00:02<00:00, 1158.31it/s]\n"
          ]
        },
        {
          "name": "stdout",
          "output_type": "stream",
          "text": [
            "Epoch 50/200 - Average Loss: 29.622483408271567\n"
          ]
        },
        {
          "name": "stderr",
          "output_type": "stream",
          "text": [
            "100%|██████████| 2953/2953 [00:02<00:00, 1250.46it/s]\n"
          ]
        },
        {
          "name": "stdout",
          "output_type": "stream",
          "text": [
            "Epoch 51/200 - Average Loss: 29.601127096738324\n"
          ]
        },
        {
          "name": "stderr",
          "output_type": "stream",
          "text": [
            " 92%|█████████▏| 2725/2953 [00:02<00:00, 1311.64it/s]"
          ]
        }
      ],
      "source": [
        "# Training loop for salary prediction\n",
        "num_epochs = 200\n",
        "for epoch in range(num_epochs):\n",
        "    model.train()\n",
        "    total_loss = 0\n",
        "\n",
        "    for X_batch, y_batch in tqdm(train_loader):\n",
        "        optimizer.zero_grad()\n",
        "\n",
        "        # Forward pass\n",
        "        y_pred = model(X_batch)\n",
        "        loss = criterion(y_pred, y_batch)\n",
        "        loss.backward()\n",
        "        optimizer.step()\n",
        "        total_loss += loss.item()\n",
        "\n",
        "    average_loss = total_loss / len(train_loader)\n",
        "\n",
        "    print(f\"Epoch {epoch + 1}/{num_epochs} - Average Loss: {average_loss}\")\n"
      ]
    },
    {
      "cell_type": "code",
      "execution_count": null,
      "metadata": {},
      "outputs": [
        {
          "name": "stderr",
          "output_type": "stream",
          "text": [
            "100%|██████████| 93/93 [00:00<00:00, 4895.21it/s]"
          ]
        },
        {
          "name": "stdout",
          "output_type": "stream",
          "text": [
            "MAPE Test Loss: 99.99840127268145%\n"
          ]
        },
        {
          "name": "stderr",
          "output_type": "stream",
          "text": [
            "\n"
          ]
        }
      ],
      "source": [
        "# Evaluation on validation set\n",
        "model.eval()\n",
        "with torch.no_grad():\n",
        "    test_loss = 0\n",
        "    for test_batch in tqdm(test_loader):\n",
        "        test_inputs, test_targets = test_batch\n",
        "        test_outputs = model(test_inputs)\n",
        "        test_loss += criterion(test_outputs, test_targets).item()\n",
        "    \n",
        "    average_test_loss = test_loss/len(test_loader)\n",
        "\n",
        "    print(f'MAPE Test Loss: {average_test_loss}%')"
      ]
    },
    {
      "cell_type": "code",
      "execution_count": null,
      "metadata": {},
      "outputs": [],
      "source": []
    },
    {
      "cell_type": "code",
      "execution_count": null,
      "metadata": {},
      "outputs": [],
      "source": []
    }
  ],
  "metadata": {
    "colab": {
      "provenance": []
    },
    "kernelspec": {
      "display_name": "GenAI_venv",
      "language": "python",
      "name": "genai_venv"
    },
    "language_info": {
      "codemirror_mode": {
        "name": "ipython",
        "version": 3
      },
      "file_extension": ".py",
      "mimetype": "text/x-python",
      "name": "python",
      "nbconvert_exporter": "python",
      "pygments_lexer": "ipython3",
      "version": "3.12.1"
    }
  },
  "nbformat": 4,
  "nbformat_minor": 0
}
